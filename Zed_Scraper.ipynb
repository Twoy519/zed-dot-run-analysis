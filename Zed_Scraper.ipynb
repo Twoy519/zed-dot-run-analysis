{
  "nbformat": 4,
  "nbformat_minor": 0,
  "metadata": {
    "colab": {
      "name": "Zed Scraper",
      "provenance": [],
      "collapsed_sections": [],
      "authorship_tag": "ABX9TyM89ICW/6xQwojip9GqrX4E",
      "include_colab_link": true
    },
    "kernelspec": {
      "display_name": "Python 3",
      "name": "python3"
    },
    "language_info": {
      "name": "python"
    }
  },
  "cells": [
    {
      "cell_type": "markdown",
      "metadata": {
        "id": "view-in-github",
        "colab_type": "text"
      },
      "source": [
        "<a href=\"https://colab.research.google.com/github/Twoy519/zed-dot-run-analysis/blob/master/Zed_Scraper.ipynb\" target=\"_parent\"><img src=\"https://colab.research.google.com/assets/colab-badge.svg\" alt=\"Open In Colab\"/></a>"
      ]
    },
    {
      "cell_type": "code",
      "metadata": {
        "id": "X8nZ8IXA_yAr"
      },
      "source": [
        "import requests\n",
        "import pandas as pd\n",
        "import numpy as np\n",
        "import time\n",
        "\n",
        "import gspread\n",
        "from oauth2client.client import GoogleCredentials as GC\n",
        "from google.colab import auth\n",
        "from gspread_dataframe import set_with_dataframe"
      ],
      "execution_count": null,
      "outputs": []
    },
    {
      "cell_type": "code",
      "metadata": {
        "id": "G9jGKk04VRYL"
      },
      "source": [
        "auth.authenticate_user()\n",
        "gc = gspread.authorize(GC.get_application_default())"
      ],
      "execution_count": null,
      "outputs": []
    },
    {
      "cell_type": "code",
      "metadata": {
        "id": "IO1QluGb_2vC"
      },
      "source": [
        "def get_horse(horse_number):\n",
        "    try:\n",
        "      r = requests.get(f'https://api.zed.run/api/v1/horses/get/{horse_number}').json()\n",
        "      return r\n",
        "    except:\n",
        "      print(f\"error on horse number {horse_number}\")"
      ],
      "execution_count": null,
      "outputs": []
    },
    {
      "cell_type": "code",
      "metadata": {
        "id": "GsVUpewS_4GT"
      },
      "source": [
        "def scrape_horses(start_horse_number, stop_horse_number):\n",
        "    return_data = []\n",
        "    for i in range(start_horse_number, stop_horse_number + 1):\n",
        "        horse = get_horse(i)\n",
        "        horse['id'] = i\n",
        "        return_data.append(horse)\n",
        "        time.sleep(1)\n",
        "    return return_data"
      ],
      "execution_count": null,
      "outputs": []
    },
    {
      "cell_type": "code",
      "metadata": {
        "id": "LCpnUDSSkjg-"
      },
      "source": [
        "def get_horses(start, stop):\n",
        "  horses = scrape_horses(start,stop)\n",
        "  df = pd.json_normalize(horses)\n",
        "  return df"
      ],
      "execution_count": null,
      "outputs": []
    },
    {
      "cell_type": "code",
      "metadata": {
        "id": "zPbsgIDhktay"
      },
      "source": [
        "def sanitize_fields(horses, imporant_fields):\n",
        "  for x in important_fields:\n",
        "    if x not in horses:\n",
        "      horses[x] = np.nan\n",
        "  \n",
        "  return horses"
      ],
      "execution_count": null,
      "outputs": []
    },
    {
      "cell_type": "code",
      "metadata": {
        "id": "xDxz-OaF_SmR"
      },
      "source": [
        "def clean_horses(horses, important_fields):\n",
        "  df = sanitize_fields(horses, important_fields)\n",
        "  return df[important_fields]"
      ],
      "execution_count": null,
      "outputs": []
    },
    {
      "cell_type": "code",
      "metadata": {
        "id": "9St8akzC_D8V"
      },
      "source": [
        "def save_horses(start, stop, clean_horses):\n",
        "  title = f'horses_{start}_{stop}'\n",
        "  gc.create(title)\n",
        "  sheet = gc.open(title).sheet1\n",
        "  set_with_dataframe(sheet, clean_horses, include_column_header=True) \n",
        "  horses.to_csv(f'{title}.csv', index=False)\n"
      ],
      "execution_count": null,
      "outputs": []
    },
    {
      "cell_type": "code",
      "metadata": {
        "id": "BU6iBL8ZAA5w"
      },
      "source": [
        "  # identify the fields we care about\n",
        "important_fields = [\n",
        "    \"id\",\n",
        "    \"bloodline\",\n",
        "    \"breed_type\",\n",
        "    \"genotype\",\n",
        "    \"hash_info.name\",\n",
        "    \"win_rate\",\n",
        "    \"number_of_races\",\n",
        "    \"parents.father.bloodline\",\n",
        "    \"parents.father.breed_type\",\n",
        "    \"parents.father.genotype\",\n",
        "    \"parents.father.hash_info.name\",\n",
        "    \"parents.father.win_rate\",\n",
        "    \"parents.father.number_of_races\",\n",
        "    \"parents.mother.bloodline\",\n",
        "    \"parents.mother.breed_type\",\n",
        "    \"parents.mother.genotype\",\n",
        "    \"parents.mother.hash_info.name\",\n",
        "    \"parents.mother.win_rate\",\n",
        "    \"parents.mother.number_of_races\"\n",
        "]"
      ],
      "execution_count": null,
      "outputs": []
    },
    {
      "cell_type": "code",
      "metadata": {
        "id": "yLZ1zyewEFsA"
      },
      "source": [
        "start = 0\n",
        "stop = 999"
      ],
      "execution_count": null,
      "outputs": []
    },
    {
      "cell_type": "code",
      "metadata": {
        "id": "wwJQL3wJk_Pl"
      },
      "source": [
        "horses = get_horses(start, stop)\n",
        "horses_cleaned = clean_horses(horses, important_fields)\n",
        "save_horses(start, stop, horses_cleaned)"
      ],
      "execution_count": null,
      "outputs": []
    },
    {
      "cell_type": "code",
      "metadata": {
        "id": "J9ZaMNPbIX4-"
      },
      "source": [
        "save_horses(start, stop, horses_cleaned)"
      ],
      "execution_count": null,
      "outputs": []
    },
    {
      "cell_type": "code",
      "metadata": {
        "colab": {
          "base_uri": "https://localhost:8080/",
          "height": 439
        },
        "id": "0K80bAtRx_1T",
        "outputId": "9073db2e-82dd-4ab0-db52-8de00f646d1c"
      },
      "source": [
        "horses_cleaned"
      ],
      "execution_count": null,
      "outputs": [
        {
          "output_type": "execute_result",
          "data": {
            "text/html": [
              "<div>\n",
              "<style scoped>\n",
              "    .dataframe tbody tr th:only-of-type {\n",
              "        vertical-align: middle;\n",
              "    }\n",
              "\n",
              "    .dataframe tbody tr th {\n",
              "        vertical-align: top;\n",
              "    }\n",
              "\n",
              "    .dataframe thead th {\n",
              "        text-align: right;\n",
              "    }\n",
              "</style>\n",
              "<table border=\"1\" class=\"dataframe\">\n",
              "  <thead>\n",
              "    <tr style=\"text-align: right;\">\n",
              "      <th></th>\n",
              "      <th>id</th>\n",
              "      <th>bloodline</th>\n",
              "      <th>breed_type</th>\n",
              "      <th>genotype</th>\n",
              "      <th>hash_info.name</th>\n",
              "      <th>win_rate</th>\n",
              "      <th>number_of_races</th>\n",
              "      <th>parents.father.bloodline</th>\n",
              "      <th>parents.father.breed_type</th>\n",
              "      <th>parents.father.genotype</th>\n",
              "      <th>parents.father.hash_info.name</th>\n",
              "      <th>parents.father.win_rate</th>\n",
              "      <th>parents.father.number_of_races</th>\n",
              "      <th>parents.mother.bloodline</th>\n",
              "      <th>parents.mother.breed_type</th>\n",
              "      <th>parents.mother.genotype</th>\n",
              "      <th>parents.mother.hash_info.name</th>\n",
              "      <th>parents.mother.win_rate</th>\n",
              "      <th>parents.mother.number_of_races</th>\n",
              "    </tr>\n",
              "  </thead>\n",
              "  <tbody>\n",
              "    <tr>\n",
              "      <th>0</th>\n",
              "      <td>0</td>\n",
              "      <td>Nakamoto</td>\n",
              "      <td>genesis</td>\n",
              "      <td>Z1</td>\n",
              "      <td>Thin Frivolity</td>\n",
              "      <td>0.00</td>\n",
              "      <td>0</td>\n",
              "      <td>NaN</td>\n",
              "      <td>NaN</td>\n",
              "      <td>NaN</td>\n",
              "      <td>NaN</td>\n",
              "      <td>NaN</td>\n",
              "      <td>NaN</td>\n",
              "      <td>NaN</td>\n",
              "      <td>NaN</td>\n",
              "      <td>NaN</td>\n",
              "      <td>NaN</td>\n",
              "      <td>NaN</td>\n",
              "      <td>NaN</td>\n",
              "    </tr>\n",
              "    <tr>\n",
              "      <th>1</th>\n",
              "      <td>1</td>\n",
              "      <td>Nakamoto</td>\n",
              "      <td>genesis</td>\n",
              "      <td>Z1</td>\n",
              "      <td>Chase Jackson</td>\n",
              "      <td>0.00</td>\n",
              "      <td>0</td>\n",
              "      <td>NaN</td>\n",
              "      <td>NaN</td>\n",
              "      <td>NaN</td>\n",
              "      <td>NaN</td>\n",
              "      <td>NaN</td>\n",
              "      <td>NaN</td>\n",
              "      <td>NaN</td>\n",
              "      <td>NaN</td>\n",
              "      <td>NaN</td>\n",
              "      <td>NaN</td>\n",
              "      <td>NaN</td>\n",
              "      <td>NaN</td>\n",
              "    </tr>\n",
              "    <tr>\n",
              "      <th>2</th>\n",
              "      <td>2</td>\n",
              "      <td>Nakamoto</td>\n",
              "      <td>genesis</td>\n",
              "      <td>Z1</td>\n",
              "      <td>Wall Street</td>\n",
              "      <td>23.33</td>\n",
              "      <td>30</td>\n",
              "      <td>NaN</td>\n",
              "      <td>NaN</td>\n",
              "      <td>NaN</td>\n",
              "      <td>NaN</td>\n",
              "      <td>NaN</td>\n",
              "      <td>NaN</td>\n",
              "      <td>NaN</td>\n",
              "      <td>NaN</td>\n",
              "      <td>NaN</td>\n",
              "      <td>NaN</td>\n",
              "      <td>NaN</td>\n",
              "      <td>NaN</td>\n",
              "    </tr>\n",
              "    <tr>\n",
              "      <th>3</th>\n",
              "      <td>3</td>\n",
              "      <td>Nakamoto</td>\n",
              "      <td>genesis</td>\n",
              "      <td>Z1</td>\n",
              "      <td>Millions</td>\n",
              "      <td>0.00</td>\n",
              "      <td>0</td>\n",
              "      <td>NaN</td>\n",
              "      <td>NaN</td>\n",
              "      <td>NaN</td>\n",
              "      <td>NaN</td>\n",
              "      <td>NaN</td>\n",
              "      <td>NaN</td>\n",
              "      <td>NaN</td>\n",
              "      <td>NaN</td>\n",
              "      <td>NaN</td>\n",
              "      <td>NaN</td>\n",
              "      <td>NaN</td>\n",
              "      <td>NaN</td>\n",
              "    </tr>\n",
              "    <tr>\n",
              "      <th>4</th>\n",
              "      <td>4</td>\n",
              "      <td>Nakamoto</td>\n",
              "      <td>genesis</td>\n",
              "      <td>Z1</td>\n",
              "      <td>Guns and Horses</td>\n",
              "      <td>0.00</td>\n",
              "      <td>0</td>\n",
              "      <td>NaN</td>\n",
              "      <td>NaN</td>\n",
              "      <td>NaN</td>\n",
              "      <td>NaN</td>\n",
              "      <td>NaN</td>\n",
              "      <td>NaN</td>\n",
              "      <td>NaN</td>\n",
              "      <td>NaN</td>\n",
              "      <td>NaN</td>\n",
              "      <td>NaN</td>\n",
              "      <td>NaN</td>\n",
              "      <td>NaN</td>\n",
              "    </tr>\n",
              "    <tr>\n",
              "      <th>...</th>\n",
              "      <td>...</td>\n",
              "      <td>...</td>\n",
              "      <td>...</td>\n",
              "      <td>...</td>\n",
              "      <td>...</td>\n",
              "      <td>...</td>\n",
              "      <td>...</td>\n",
              "      <td>...</td>\n",
              "      <td>...</td>\n",
              "      <td>...</td>\n",
              "      <td>...</td>\n",
              "      <td>...</td>\n",
              "      <td>...</td>\n",
              "      <td>...</td>\n",
              "      <td>...</td>\n",
              "      <td>...</td>\n",
              "      <td>...</td>\n",
              "      <td>...</td>\n",
              "      <td>...</td>\n",
              "    </tr>\n",
              "    <tr>\n",
              "      <th>995</th>\n",
              "      <td>995</td>\n",
              "      <td>Nakamoto</td>\n",
              "      <td>genesis</td>\n",
              "      <td>Z2</td>\n",
              "      <td>Second Best</td>\n",
              "      <td>0.00</td>\n",
              "      <td>0</td>\n",
              "      <td>NaN</td>\n",
              "      <td>NaN</td>\n",
              "      <td>NaN</td>\n",
              "      <td>NaN</td>\n",
              "      <td>NaN</td>\n",
              "      <td>NaN</td>\n",
              "      <td>NaN</td>\n",
              "      <td>NaN</td>\n",
              "      <td>NaN</td>\n",
              "      <td>NaN</td>\n",
              "      <td>NaN</td>\n",
              "      <td>NaN</td>\n",
              "    </tr>\n",
              "    <tr>\n",
              "      <th>996</th>\n",
              "      <td>996</td>\n",
              "      <td>Nakamoto</td>\n",
              "      <td>genesis</td>\n",
              "      <td>Z2</td>\n",
              "      <td>For The Fans</td>\n",
              "      <td>0.00</td>\n",
              "      <td>3</td>\n",
              "      <td>NaN</td>\n",
              "      <td>NaN</td>\n",
              "      <td>NaN</td>\n",
              "      <td>NaN</td>\n",
              "      <td>NaN</td>\n",
              "      <td>NaN</td>\n",
              "      <td>NaN</td>\n",
              "      <td>NaN</td>\n",
              "      <td>NaN</td>\n",
              "      <td>NaN</td>\n",
              "      <td>NaN</td>\n",
              "      <td>NaN</td>\n",
              "    </tr>\n",
              "    <tr>\n",
              "      <th>997</th>\n",
              "      <td>997</td>\n",
              "      <td>Nakamoto</td>\n",
              "      <td>genesis</td>\n",
              "      <td>Z2</td>\n",
              "      <td>Come At Me</td>\n",
              "      <td>15.38</td>\n",
              "      <td>65</td>\n",
              "      <td>NaN</td>\n",
              "      <td>NaN</td>\n",
              "      <td>NaN</td>\n",
              "      <td>NaN</td>\n",
              "      <td>NaN</td>\n",
              "      <td>NaN</td>\n",
              "      <td>NaN</td>\n",
              "      <td>NaN</td>\n",
              "      <td>NaN</td>\n",
              "      <td>NaN</td>\n",
              "      <td>NaN</td>\n",
              "      <td>NaN</td>\n",
              "    </tr>\n",
              "    <tr>\n",
              "      <th>998</th>\n",
              "      <td>998</td>\n",
              "      <td>Nakamoto</td>\n",
              "      <td>genesis</td>\n",
              "      <td>Z2</td>\n",
              "      <td>My Sore Leg</td>\n",
              "      <td>0.00</td>\n",
              "      <td>0</td>\n",
              "      <td>NaN</td>\n",
              "      <td>NaN</td>\n",
              "      <td>NaN</td>\n",
              "      <td>NaN</td>\n",
              "      <td>NaN</td>\n",
              "      <td>NaN</td>\n",
              "      <td>NaN</td>\n",
              "      <td>NaN</td>\n",
              "      <td>NaN</td>\n",
              "      <td>NaN</td>\n",
              "      <td>NaN</td>\n",
              "      <td>NaN</td>\n",
              "    </tr>\n",
              "    <tr>\n",
              "      <th>999</th>\n",
              "      <td>999</td>\n",
              "      <td>Nakamoto</td>\n",
              "      <td>genesis</td>\n",
              "      <td>Z2</td>\n",
              "      <td>I'm Broke</td>\n",
              "      <td>0.00</td>\n",
              "      <td>0</td>\n",
              "      <td>NaN</td>\n",
              "      <td>NaN</td>\n",
              "      <td>NaN</td>\n",
              "      <td>NaN</td>\n",
              "      <td>NaN</td>\n",
              "      <td>NaN</td>\n",
              "      <td>NaN</td>\n",
              "      <td>NaN</td>\n",
              "      <td>NaN</td>\n",
              "      <td>NaN</td>\n",
              "      <td>NaN</td>\n",
              "      <td>NaN</td>\n",
              "    </tr>\n",
              "  </tbody>\n",
              "</table>\n",
              "<p>1000 rows × 19 columns</p>\n",
              "</div>"
            ],
            "text/plain": [
              "      id bloodline  ... parents.mother.win_rate parents.mother.number_of_races\n",
              "0      0  Nakamoto  ...                     NaN                            NaN\n",
              "1      1  Nakamoto  ...                     NaN                            NaN\n",
              "2      2  Nakamoto  ...                     NaN                            NaN\n",
              "3      3  Nakamoto  ...                     NaN                            NaN\n",
              "4      4  Nakamoto  ...                     NaN                            NaN\n",
              "..   ...       ...  ...                     ...                            ...\n",
              "995  995  Nakamoto  ...                     NaN                            NaN\n",
              "996  996  Nakamoto  ...                     NaN                            NaN\n",
              "997  997  Nakamoto  ...                     NaN                            NaN\n",
              "998  998  Nakamoto  ...                     NaN                            NaN\n",
              "999  999  Nakamoto  ...                     NaN                            NaN\n",
              "\n",
              "[1000 rows x 19 columns]"
            ]
          },
          "metadata": {
            "tags": []
          },
          "execution_count": 33
        }
      ]
    }
  ]
}